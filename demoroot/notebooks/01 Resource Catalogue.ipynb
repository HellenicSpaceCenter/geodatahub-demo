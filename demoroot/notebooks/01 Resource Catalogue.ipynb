{
 "cells": [
  {
   "cell_type": "markdown",
   "id": "26651852-cac0-4bba-b252-d21ce96d100a",
   "metadata": {},
   "source": [
    "## Resource Catalogue demo"
   ]
  },
  {
   "cell_type": "markdown",
   "id": "8219b827-fe6d-4a8d-9af2-6f8719dd65ea",
   "metadata": {},
   "source": [
    "[OWSLib](https://geopython.github.io/OWSLib) is a Python package for client programming with Open Geospatial Consortium (OGC) web service (hence OWS) interface standards, and their related content models. In this demo we’ll work with the CSW, WMS and WCS interfaces."
   ]
  },
  {
   "cell_type": "code",
   "execution_count": null,
   "id": "658ce66c-15e4-41cd-b61a-4e9ba53dcd55",
   "metadata": {},
   "outputs": [],
   "source": [
    "from owslib.csw import CatalogueServiceWeb\n",
    "from owslib.ogcapi.records import Records\n",
    "from owslib.opensearch import OpenSearch\n",
    "from owslib.fes import And, Or, PropertyIsEqualTo, PropertyIsGreaterThanOrEqualTo, PropertyIsLessThanOrEqualTo, PropertyIsLike, BBox, SortBy, SortProperty\n",
    "from geolinks import sniff_link\n",
    "import folium\n",
    "import json\n",
    "import requests"
   ]
  },
  {
   "cell_type": "code",
   "execution_count": null,
   "id": "a226f882-ef75-477b-a927-61a24b9202e6",
   "metadata": {},
   "outputs": [],
   "source": [
    "base_domain = \"dev-1.hsc.eofarm.com\""
   ]
  },
  {
   "cell_type": "markdown",
   "id": "a86c43c6-0b46-4c55-8baa-f1d0da46c2c6",
   "metadata": {
    "jp-MarkdownHeadingCollapsed": true
   },
   "source": [
    "### System Catalogue Discovery"
   ]
  },
  {
   "cell_type": "markdown",
   "id": "c69f0c24-bf3f-4800-8346-f83d0df884d3",
   "metadata": {},
   "source": [
    "In this part of the demo, the user will use the system level resource catalogue endpoint to discover data collections and datasets.\n",
    "The `owslib.csw` class of OWSLib is instantiated and service metadata are shown."
   ]
  },
  {
   "cell_type": "code",
   "execution_count": null,
   "id": "d07c6f82-0385-4980-899e-c86d9eddc8f8",
   "metadata": {},
   "outputs": [],
   "source": [
    "system_catalogue_endpoint = f'https://catalogue.{base_domain}/csw'"
   ]
  },
  {
   "cell_type": "code",
   "execution_count": null,
   "id": "7b05431e-e58e-48c8-a3f0-b9c88851ee90",
   "metadata": {},
   "outputs": [],
   "source": [
    "csw = CatalogueServiceWeb(system_catalogue_endpoint, timeout=30)"
   ]
  },
  {
   "cell_type": "markdown",
   "id": "d26a7509-45a1-47d4-b548-3bde10dc779a",
   "metadata": {},
   "source": [
    "Service metadata shown here includes identification type (from ISO-19115), CSW version and supported operations"
   ]
  },
  {
   "cell_type": "code",
   "execution_count": null,
   "id": "54251eb6-6568-4947-a254-f06c79e3454f",
   "metadata": {},
   "outputs": [],
   "source": [
    "csw.identification.type"
   ]
  },
  {
   "cell_type": "code",
   "execution_count": null,
   "id": "81104595-78d4-4ff2-ba8a-5cb6a704de6d",
   "metadata": {},
   "outputs": [],
   "source": [
    "csw.version"
   ]
  },
  {
   "cell_type": "code",
   "execution_count": null,
   "id": "646dd77a-6f82-4a1f-9463-94bddb897175",
   "metadata": {},
   "outputs": [],
   "source": [
    "[op.name for op in csw.operations]"
   ]
  },
  {
   "cell_type": "markdown",
   "id": "4f397c4f-f61d-4c41-a746-46039bd215fa",
   "metadata": {},
   "source": [
    "As well as catalogue queryables:"
   ]
  },
  {
   "cell_type": "code",
   "execution_count": null,
   "id": "b639cb02-bac8-4f55-9512-f013ccaebd22",
   "metadata": {},
   "outputs": [],
   "source": [
    "csw.get_operation_by_name('GetRecords').constraints"
   ]
  },
  {
   "cell_type": "markdown",
   "id": "ff59b751-330f-47bf-8b86-c9ce5eae6801",
   "metadata": {},
   "source": [
    "The user can make a GetRecords request to get all records of the catalogue, with a page limit of 10."
   ]
  },
  {
   "cell_type": "code",
   "execution_count": null,
   "id": "30704881-178d-45de-aeb7-7482c4542770",
   "metadata": {},
   "outputs": [],
   "source": [
    "csw.getrecords2(maxrecords=10)\n",
    "csw.results"
   ]
  },
  {
   "cell_type": "code",
   "execution_count": null,
   "id": "a7b03fde-a5e3-4c8c-8493-4e182a055211",
   "metadata": {},
   "outputs": [],
   "source": [
    "for rec in csw.records:\n",
    "   print(f'identifier: {csw.records[rec].identifier}\\ntype: {csw.records[rec].type}\\ntitle: {csw.records[rec].title}\\n')"
   ]
  },
  {
   "cell_type": "markdown",
   "id": "aff279fc-a59f-465f-a2a0-afbc07ba916c",
   "metadata": {},
   "source": [
    "If the user wishes to discover data with usage of filters, an OGC Filter can be used. Here we demonstrate how to create spatial (`bbox`), temporal (`time`), and attribute (`apiso:CloudCover`) filters combined with logical operators like and/or"
   ]
  },
  {
   "cell_type": "code",
   "execution_count": null,
   "id": "7c3489b5-f437-448b-975f-afd5d2057364",
   "metadata": {},
   "outputs": [],
   "source": [
    "bbox_query = BBox([37.8, 23.3, 38.8, 24.5])\n",
    "#bbox_query = BBox([39.66, 19.82, 40.64, 21.11])\n",
    "# bbox_query = BBox([37, 13.9, 37.9, 15.1])\n",
    "# bbox_query = BBox([47.7, 14.9, 48.7, 16.4])"
   ]
  },
  {
   "cell_type": "code",
   "execution_count": null,
   "id": "fec38a23-68fd-4c1f-9213-404859b048ae",
   "metadata": {},
   "outputs": [],
   "source": [
    "begin = PropertyIsGreaterThanOrEqualTo(propertyname='apiso:TempExtent_begin', literal='2024-11-20 00:00')"
   ]
  },
  {
   "cell_type": "code",
   "execution_count": null,
   "id": "d29f2a96-b2ed-446a-a4d3-9832f9af5e87",
   "metadata": {},
   "outputs": [],
   "source": [
    "end = PropertyIsLessThanOrEqualTo(propertyname='apiso:TempExtent_end', literal='2024-11-21 00:00')"
   ]
  },
  {
   "cell_type": "code",
   "execution_count": null,
   "id": "5a03b5d3-cad9-4da2-93ce-85c7ba8a6003",
   "metadata": {},
   "outputs": [],
   "source": [
    "cloud = PropertyIsLessThanOrEqualTo(propertyname='apiso:CloudCover', literal='20')"
   ]
  },
  {
   "cell_type": "code",
   "execution_count": null,
   "id": "24c735c8-4e87-4d11-af65-12890b4a0c46",
   "metadata": {},
   "outputs": [],
   "source": [
    "filter_list = [\n",
    "    And(\n",
    "        [\n",
    "            bbox_query,  # bounding box\n",
    "            begin, end,  # start and end date\n",
    "            cloud        # cloud\n",
    "        ]\n",
    "    )\n",
    "]"
   ]
  },
  {
   "cell_type": "markdown",
   "id": "225432bc-0fd8-4f70-9e07-3344628827c1",
   "metadata": {},
   "source": [
    "The filter is then applied to the GetRecords request and results are shown:"
   ]
  },
  {
   "cell_type": "code",
   "execution_count": null,
   "id": "7c4c4ce0-7c42-4c0b-afac-7725ddbfa724",
   "metadata": {},
   "outputs": [],
   "source": [
    "csw.getrecords2(constraints=filter_list, outputschema='http://www.isotc211.org/2005/gmd')\n",
    "csw.results"
   ]
  },
  {
   "cell_type": "code",
   "execution_count": null,
   "id": "0418bd08-debe-405d-8527-7a9ea59ed677",
   "metadata": {},
   "outputs": [],
   "source": [
    "selected_record = list(csw.records)[0]"
   ]
  },
  {
   "cell_type": "code",
   "execution_count": null,
   "id": "2230f3a0-3b9a-4b44-92ed-af31d8fc93d4",
   "metadata": {},
   "outputs": [],
   "source": [
    "for rec in csw.records:\n",
    "    print(f'identifier: {csw.records[rec].identifier}\\ntype: {csw.records[rec].identification[0].identtype}\\ntitle: {csw.records[rec].identification[0].title}\\n')"
   ]
  },
  {
   "cell_type": "markdown",
   "id": "fb5a8f1e-6bfd-40c0-ae8f-615435db4a8b",
   "metadata": {},
   "source": [
    "Another option is to perform a collection level search, using the `apiso:parentIdentifier` queryable. Here only the Sentinel2 L1C datasets will be discovered."
   ]
  },
  {
   "cell_type": "code",
   "execution_count": null,
   "id": "a0554447-6129-48c9-a8d7-47790545968b",
   "metadata": {},
   "outputs": [],
   "source": [
    "collection_query = PropertyIsEqualTo('apiso:ParentIdentifier', 'sentinel-2-l2a')"
   ]
  },
  {
   "cell_type": "code",
   "execution_count": null,
   "id": "0da28f27-2a24-43d5-b843-f636ae802c5b",
   "metadata": {},
   "outputs": [],
   "source": [
    "csw.getrecords2(constraints=[collection_query], outputschema='http://www.isotc211.org/2005/gmd')\n",
    "csw.results"
   ]
  },
  {
   "cell_type": "markdown",
   "id": "ed060cbe-43fe-4cce-9fa4-ce6980110f18",
   "metadata": {},
   "source": [
    "Or we can just search using the bbox filter"
   ]
  },
  {
   "cell_type": "code",
   "execution_count": null,
   "id": "977c8fdb-bb1c-4507-b6fd-6df271416d1c",
   "metadata": {},
   "outputs": [],
   "source": [
    "csw.getrecords2(constraints=[bbox_query], outputschema='http://www.isotc211.org/2005/gmd')\n",
    "csw.results"
   ]
  },
  {
   "cell_type": "code",
   "execution_count": null,
   "id": "ed6f2986-46b4-46f2-ae86-55b8aa407298",
   "metadata": {},
   "outputs": [],
   "source": [
    "for rec in csw.records:\n",
    "   print(f'identifier: {csw.records[rec].identifier}\\ntype: {csw.records[rec].identification[0].identtype}\\ntitle: {csw.records[rec].identification[0].title}\\n')"
   ]
  },
  {
   "cell_type": "markdown",
   "id": "45f979dd-55ac-4e3d-b38f-998ca1c1dab8",
   "metadata": {},
   "source": [
    "Or we can perform a full text search (here the keyword Orthoimagery is used)"
   ]
  },
  {
   "cell_type": "code",
   "execution_count": null,
   "id": "0a4ae3e0-1b5d-4092-bc02-5928ee89ed63",
   "metadata": {},
   "outputs": [],
   "source": [
    "# anytext_query = PropertyIsEqualTo('csw:AnyText', 'Orthoimagery')\n",
    "anytext_query = PropertyIsEqualTo('csw:AnyText', 'msi')"
   ]
  },
  {
   "cell_type": "code",
   "execution_count": null,
   "id": "96c2bb02-21f4-49e3-b4f9-27718a53124e",
   "metadata": {},
   "outputs": [],
   "source": [
    "filter_list = [\n",
    "    And(\n",
    "        [\n",
    "            bbox_query,  # bounding box\n",
    "            anytext_query # any text\n",
    "        ]\n",
    "    )\n",
    "]"
   ]
  },
  {
   "cell_type": "code",
   "execution_count": null,
   "id": "84e7a1b6-c88f-4846-a81e-bfa8840acad5",
   "metadata": {},
   "outputs": [],
   "source": [
    "csw.getrecords2(constraints=filter_list)\n",
    "csw.results"
   ]
  },
  {
   "cell_type": "markdown",
   "id": "3502e0f0-bec4-43d9-9125-675fcbd55557",
   "metadata": {},
   "source": [
    "We can also iterate through the catalogue search results by passing the `startposition` and `maxrecords` parameters to GetRecords request:"
   ]
  },
  {
   "cell_type": "code",
   "execution_count": null,
   "id": "d0078184-bde5-48b6-a4ab-471a030a19bc",
   "metadata": {},
   "outputs": [],
   "source": [
    "# csw_records = {}\n",
    "# sortby = SortBy([SortProperty('dc:title', 'ASC')])\n",
    "# pagesize=10\n",
    "# maxrecords=1000\n",
    "# startposition = 0\n",
    "# nextrecord = getattr(csw, 'results', 1)\n",
    "# while nextrecord != 0:\n",
    "#    csw.getrecords2(constraints=[anytext_query], startposition=startposition,\n",
    "#                    maxrecords=pagesize, sortby=sortby)\n",
    "#    csw_records.update(csw.records)\n",
    "#    if csw.results['nextrecord'] == 0:\n",
    "#        break\n",
    "#    startposition += pagesize\n",
    "#    if startposition >= maxrecords:\n",
    "#        break\n",
    "# csw.records.update(csw_records)\n",
    "# records = '\\n'.join(csw.records.keys())\n",
    "# print('Found {} records.\\n'.format(len(csw.records.keys())))\n",
    "# for key, value in list(csw.records.items()):\n",
    "#    print(f'identifier: {value.identifier}\\ntype: {value.type}\\ntitle: {value.title}\\n')"
   ]
  },
  {
   "cell_type": "markdown",
   "id": "4b6ad2dd-3350-4cb2-8b5f-73b36dd9d54f",
   "metadata": {},
   "source": [
    "The user then selects a record identifier and asks the catalogue to fetch the full record. Here we demonstrate how to obtain properties like title, bbox, full xml and links from the metadata record."
   ]
  },
  {
   "cell_type": "code",
   "execution_count": null,
   "id": "df46406c-62c7-45b9-b008-081a5267a713",
   "metadata": {},
   "outputs": [],
   "source": [
    "#csw.getrecordbyid(id=['S2B_MSIL2A_20200902T090559_N0214_R050_T34SGH_20200902T113910.SAFE'])\n",
    "csw.getrecordbyid(id=[selected_record])"
   ]
  },
  {
   "cell_type": "code",
   "execution_count": null,
   "id": "b216d1ef-9964-4f79-918d-409b344b752b",
   "metadata": {},
   "outputs": [],
   "source": [
    "#rec = csw.records['S2B_MSIL2A_20200902T090559_N0214_R050_T34SGH_20200902T113910.SAFE']\n",
    "rec = csw.records[selected_record]"
   ]
  },
  {
   "cell_type": "code",
   "execution_count": null,
   "id": "793b7dd9-6220-4313-8e1c-49072d7e97b4",
   "metadata": {},
   "outputs": [],
   "source": [
    "selected_record"
   ]
  },
  {
   "cell_type": "code",
   "execution_count": null,
   "id": "0262024b-157c-4ad3-8074-17abb0ec9b8b",
   "metadata": {},
   "outputs": [],
   "source": [
    "rec.title"
   ]
  },
  {
   "cell_type": "code",
   "execution_count": null,
   "id": "09c9ae64-c8eb-4f72-af93-2358e7c0c54a",
   "metadata": {},
   "outputs": [],
   "source": [
    "rec.xml"
   ]
  },
  {
   "cell_type": "code",
   "execution_count": null,
   "id": "10ce5d2f-c79a-45d6-8f6b-c029271781a5",
   "metadata": {},
   "outputs": [],
   "source": [
    "rec.references"
   ]
  },
  {
   "cell_type": "code",
   "execution_count": null,
   "id": "b8a12c3b-d36c-4240-a1bf-200d443e2230",
   "metadata": {},
   "outputs": [],
   "source": [
    "print(\"dataset bbox = (%s, %s, %s, %s)\" % (rec.bbox.miny, rec.bbox.minx, rec.bbox.maxy, rec.bbox.maxx))"
   ]
  },
  {
   "cell_type": "markdown",
   "id": "2d6698df-6e31-4f87-9c89-42ab664d70af",
   "metadata": {},
   "source": [
    "Using the [geolinks](https://github.com/geopython/geolinks) Python library we can filter the links that are of a specific type (here WMS and WCS links to be used for visualization)"
   ]
  },
  {
   "cell_type": "code",
   "execution_count": null,
   "id": "7ed31ca8-4434-45c1-bcf0-13d4e027c71d",
   "metadata": {},
   "outputs": [],
   "source": [
    "msg = 'geolink: {geolink}\\nscheme: {scheme}\\nURL: {url}\\n'.format\n",
    "for ref in rec.references:\n",
    "    print(msg(geolink=sniff_link(ref['url']), **ref))"
   ]
  },
  {
   "cell_type": "code",
   "execution_count": null,
   "id": "72a000c9-9c8b-45e7-9132-42926929eb88",
   "metadata": {},
   "outputs": [],
   "source": [
    "for ref in rec.references:\n",
    "    url = ref['url']\n",
    "    if 'WMS' in url:\n",
    "        print(msg(geolink=sniff_link(url), **ref))\n",
    "        break"
   ]
  },
  {
   "cell_type": "code",
   "execution_count": null,
   "id": "deb27914-c9af-4365-90d9-238e37531975",
   "metadata": {},
   "outputs": [],
   "source": [
    "for ref in rec.references:\n",
    "    url = ref['url']\n",
    "    if 'WCS' in url:\n",
    "        print(msg(geolink=sniff_link(url), **ref))\n",
    "        break"
   ]
  },
  {
   "cell_type": "markdown",
   "id": "09b1ff0a-db7a-422b-ba07-f4f4baf43084",
   "metadata": {},
   "source": [
    "Finally we demonstrate how to show the record footprint on a map, using the [Folium](https://github.com/python-visualization/folium) Python library:"
   ]
  },
  {
   "cell_type": "code",
   "execution_count": null,
   "id": "fda96d60-2356-4d45-bceb-583e93fad5b1",
   "metadata": {},
   "outputs": [],
   "source": [
    "centre_x = float(rec.bbox.minx) + ((float(rec.bbox.maxx) - float(rec.bbox.minx))/2)\n",
    "centre_y = float(rec.bbox.miny) + ((float(rec.bbox.maxy) - float(rec.bbox.miny))/2)\n",
    "m = folium.Map(location=[centre_y, centre_x], zoom_start=10, tiles='OpenStreetMap')\n",
    "folium.Rectangle(bounds=[[float(rec.bbox.miny), float(rec.bbox.minx)], [float(rec.bbox.maxy), float(rec.bbox.maxx)]]).add_to(m)\n",
    "m"
   ]
  },
  {
   "cell_type": "markdown",
   "id": "d25d53cf-efb4-4f8e-acf0-14ac63d0de00",
   "metadata": {
    "jp-MarkdownHeadingCollapsed": true
   },
   "source": [
    "### OpenSearch"
   ]
  },
  {
   "cell_type": "markdown",
   "id": "25a86e86-6307-4882-8959-9cd4d49ba1e6",
   "metadata": {},
   "source": [
    "In this part of the demo, the user will use the OpenSearch capability of the system resource catalogue to discover datasets."
   ]
  },
  {
   "cell_type": "code",
   "execution_count": null,
   "id": "8ebe61ec-5afd-44ca-9a6e-977157ef3a25",
   "metadata": {},
   "outputs": [],
   "source": [
    "endpoint = system_catalogue_endpoint + '?service=CSW&version=3.0.0&request=GetCapabilities&mode=opensearch'"
   ]
  },
  {
   "cell_type": "markdown",
   "id": "f576e20e-34f2-4add-adb2-872e7ef44049",
   "metadata": {},
   "source": [
    "Here, the OWSLib OpenSearch client is used."
   ]
  },
  {
   "cell_type": "code",
   "execution_count": null,
   "id": "8a45580f-0c76-4bc9-b1ed-58e92be28c58",
   "metadata": {},
   "outputs": [],
   "source": [
    "os = OpenSearch(endpoint)"
   ]
  },
  {
   "cell_type": "markdown",
   "id": "22b62eaa-4984-4ace-9254-c60b9f4be84a",
   "metadata": {},
   "source": [
    "We use the description object to retrieve service metadata."
   ]
  },
  {
   "cell_type": "code",
   "execution_count": null,
   "id": "18cf93ee-ffe8-43c2-bb87-8a69a443f04b",
   "metadata": {},
   "outputs": [],
   "source": [
    "os.description.shortname"
   ]
  },
  {
   "cell_type": "code",
   "execution_count": null,
   "id": "bf57b35e-827c-4f2a-90d1-741ab95c7e91",
   "metadata": {},
   "outputs": [],
   "source": [
    "os.description.longname"
   ]
  },
  {
   "cell_type": "code",
   "execution_count": null,
   "id": "f7532d00-e504-4040-91fe-6dc72d668ea2",
   "metadata": {},
   "outputs": [],
   "source": [
    "os.description.description"
   ]
  },
  {
   "cell_type": "code",
   "execution_count": null,
   "id": "07ed926d-8b0e-441c-8ea4-a44f3f40bdf0",
   "metadata": {},
   "outputs": [],
   "source": [
    "os.description.urls"
   ]
  },
  {
   "cell_type": "code",
   "execution_count": null,
   "id": "14eeca54-7b9d-476d-8b81-21d9d6e93fa8",
   "metadata": {},
   "outputs": [],
   "source": [
    "os.description.tags"
   ]
  },
  {
   "cell_type": "markdown",
   "id": "86fff97a-1ec6-4586-ba01-950695f36ed0",
   "metadata": {},
   "source": [
    "Then we perform a search using atom encoding."
   ]
  },
  {
   "cell_type": "code",
   "execution_count": null,
   "id": "13b02fab-9bb1-4376-8a13-561a27506807",
   "metadata": {},
   "outputs": [],
   "source": [
    "results = os.search('application/atom+xml')\n",
    "len(results)"
   ]
  },
  {
   "cell_type": "markdown",
   "id": "baccad08-f193-4379-90ba-0da0ce330f46",
   "metadata": {},
   "source": [
    "Another posibility is to use the HTTP GET requests directly with a generic client like requests."
   ]
  },
  {
   "cell_type": "code",
   "execution_count": null,
   "id": "ac5ea886-b414-4df2-a482-408854c938fc",
   "metadata": {},
   "outputs": [],
   "source": [
    "import requests\n",
    "from bs4 import BeautifulSoup"
   ]
  },
  {
   "cell_type": "code",
   "execution_count": null,
   "id": "0871144c-4011-4935-baf6-cfd3c2171f74",
   "metadata": {},
   "outputs": [],
   "source": [
    "S = requests.Session()"
   ]
  },
  {
   "cell_type": "markdown",
   "id": "7e061992-58e8-4d0e-8ac0-8bd55eed0cad",
   "metadata": {},
   "source": [
    "Here, the user asks for the OpenSearch entrypoint template"
   ]
  },
  {
   "cell_type": "code",
   "execution_count": null,
   "id": "23fc3f20-75fb-4acf-9ff3-b00df47ed234",
   "metadata": {},
   "outputs": [],
   "source": [
    "R = S.get(url=endpoint)\n",
    "bs = BeautifulSoup(R.text, 'xml')\n",
    "print(bs.prettify())"
   ]
  },
  {
   "cell_type": "markdown",
   "id": "86704c40-cd73-41d5-9a92-702b5f15faf0",
   "metadata": {},
   "source": [
    "A GetRecords request (in the context of OpenSearch) is performed"
   ]
  },
  {
   "cell_type": "code",
   "execution_count": null,
   "id": "e17b7bc4-1220-43c1-a11a-62639ea32136",
   "metadata": {},
   "outputs": [],
   "source": [
    "url = system_catalogue_endpoint + '?mode=opensearch&service=CSW&version=3.0.0&request=GetRecords&elementsetname=full&resulttype=results&typenames=csw:Record'\n",
    "R = S.get(url=url)\n",
    "bs = BeautifulSoup(R.text, 'xml')\n",
    "print(bs.prettify())"
   ]
  },
  {
   "cell_type": "markdown",
   "id": "c30ffe74-666a-43db-b6f3-d4ba4cf1f70b",
   "metadata": {},
   "source": [
    "A collections search is also demonstrated, for Sentinel2 Level 2A results"
   ]
  },
  {
   "cell_type": "code",
   "execution_count": null,
   "id": "a678982d-bee9-4a0f-9468-ed95a3bd3169",
   "metadata": {},
   "outputs": [],
   "source": [
    "url = system_catalogue_endpoint + '?mode=opensearch&service=CSW&version=3.0.0&request=GetRecords&elementsetname=full&resulttype=results&typenames=csw:Record&eo:parentIdentifier=sentinel-2-l2a'\n",
    "R = S.get(url=url)\n",
    "bs = BeautifulSoup(R.text, 'xml')\n",
    "print(bs.prettify())"
   ]
  },
  {
   "cell_type": "markdown",
   "id": "a7cf104c-a893-4f9d-8312-1a0d13b1f717",
   "metadata": {},
   "source": [
    "The user can also use OpenSearch EO mathematical notation to filter based on other parameters"
   ]
  },
  {
   "cell_type": "code",
   "execution_count": null,
   "id": "f02659d6-2273-4baa-940c-dfe9ade298c1",
   "metadata": {},
   "outputs": [],
   "source": [
    "# OpenSearch EO mathematical notation\n",
    "# n1 equal to field = n1\n",
    "# {n1,n2,…} equals to field=n1 OR field=n2 OR …\n",
    "# [n1,n2] equal to n1 <= field <= n2\n",
    "# [n1,n2[ equals to n1 <= field < n2\n",
    "# ]n1,n2[ equals to n1 < field < n2\n",
    "# ]n1,n2] equal to n1 < field  <= n2\n",
    "# [n1 equals to n1<= field\n",
    "# ]n1 equals to n1 < field\n",
    "# n2] equals to field <= n2\n",
    "# n2[ equals to field < n2\n",
    "\n",
    "url = system_catalogue_endpoint + '?mode=opensearch&service=CSW&version=3.0.0&request=GetRecords&elementsetname=full&resulttype=results&typenames=csw:Record&eo:cloudCover=]20'\n",
    "R = S.get(url=url)\n",
    "bs = BeautifulSoup(R.text, 'xml')\n",
    "print(bs.prettify())"
   ]
  },
  {
   "cell_type": "markdown",
   "id": "1d985ff8-57c1-4f0b-88bb-d57b6ebe5c31",
   "metadata": {},
   "source": [
    "The user can get one record using the identifier through the OpenSearch EO API:"
   ]
  },
  {
   "cell_type": "code",
   "execution_count": null,
   "id": "87b26ef7-3c6b-4bfe-a524-8516f04bc273",
   "metadata": {},
   "outputs": [],
   "source": [
    "url = system_catalogue_endpoint + '?mode=opensearch&service=CSW&version=3.0.0&request=GetRecords&elementsetname=full&resulttype=results&typenames=csw:Record&recordids=S2B_MSIL2A_20241120T091209_R050_T34SGH_20241120T115657'\n",
    "R = S.get(url=url)\n",
    "bs = BeautifulSoup(R.text, 'xml')\n",
    "print(bs.prettify())"
   ]
  },
  {
   "cell_type": "markdown",
   "id": "9b832fbb-75b6-42b7-ba68-cf5499378815",
   "metadata": {},
   "source": [
    "The user can search using a bbox parameter:"
   ]
  },
  {
   "cell_type": "code",
   "execution_count": null,
   "id": "73a4365b-ff5b-4d95-a51e-d6787ee0666d",
   "metadata": {},
   "outputs": [],
   "source": [
    "url = system_catalogue_endpoint + '?mode=opensearch&service=CSW&version=3.0.0&request=GetRecords&elementsetname=full&resulttype=results&typenames=csw:Record&bbox=23.3,37.8,24.5,38.8'\n",
    "R = S.get(url=url)\n",
    "bs = BeautifulSoup(R.text, 'xml')\n",
    "print(bs.prettify())"
   ]
  },
  {
   "cell_type": "markdown",
   "id": "4850e7a0-c2a8-4bea-9a59-b034b9e9cd2f",
   "metadata": {},
   "source": [
    "The user can search using a time parameter:"
   ]
  },
  {
   "cell_type": "code",
   "execution_count": null,
   "id": "1a3daecd-b82b-4db5-aaa7-acf9fe57cf0d",
   "metadata": {},
   "outputs": [],
   "source": [
    "url = system_catalogue_endpoint + '?mode=opensearch&service=CSW&version=3.0.0&request=GetRecords&elementsetname=full&resulttype=results&typenames=csw:Record&time=2024-11-20/2024-11-21'\n",
    "R = S.get(url=url)\n",
    "bs = BeautifulSoup(R.text, 'xml')\n",
    "print(bs.prettify())"
   ]
  },
  {
   "cell_type": "markdown",
   "id": "5467eeca-ce77-4c2f-90fb-d99899774dcc",
   "metadata": {},
   "source": [
    "Or separate time start/stop parameters:"
   ]
  },
  {
   "cell_type": "code",
   "execution_count": null,
   "id": "4afdcf0c-ac3e-4676-877a-4330dfaf9cda",
   "metadata": {},
   "outputs": [],
   "source": [
    "url = system_catalogue_endpoint + '?mode=opensearch&service=CSW&version=3.0.0&request=GetRecords&elementsetname=full&resulttype=results&typenames=csw:Record&start=2024-11-20&stop=2024-11-21'\n",
    "R = S.get(url=url)\n",
    "bs = BeautifulSoup(R.text, 'xml')\n",
    "print(bs.prettify())"
   ]
  },
  {
   "cell_type": "markdown",
   "id": "71406579-3e11-41a0-99d0-f92d137d75b6",
   "metadata": {
    "jp-MarkdownHeadingCollapsed": true
   },
   "source": [
    "### OGC API Records demo"
   ]
  },
  {
   "cell_type": "markdown",
   "id": "b782e936-a4f5-4c42-8f61-749f9f754765",
   "metadata": {},
   "source": [
    "In this part of the demo, the user will use the system level resource catalogue OGC API Records endpoint to discover data datasets.\n",
    "The `owslib.ogcapi.records` class of OWSLib is instantiated and service metadata are shown."
   ]
  },
  {
   "cell_type": "code",
   "execution_count": null,
   "id": "518428c6-5cb0-41de-8578-b92c40466315",
   "metadata": {},
   "outputs": [],
   "source": [
    "system_catalogue_endpoint = f'https://catalogue.{base_domain}'"
   ]
  },
  {
   "cell_type": "code",
   "execution_count": null,
   "id": "108316b8-a2fa-4982-bcc3-219c4419c88f",
   "metadata": {},
   "outputs": [],
   "source": [
    "w = Records(system_catalogue_endpoint)"
   ]
  },
  {
   "cell_type": "code",
   "execution_count": null,
   "id": "ef7701a1-c8c7-4a6a-9e89-2f33ab458869",
   "metadata": {},
   "outputs": [],
   "source": [
    "w.url"
   ]
  },
  {
   "cell_type": "markdown",
   "id": "2a151297-f59c-4d94-8447-dfbc65bf9b28",
   "metadata": {},
   "source": [
    "Conformance classes supported by the OGC API Records server:"
   ]
  },
  {
   "cell_type": "code",
   "execution_count": null,
   "id": "8e477c07-965a-444e-8577-9b222c32b90c",
   "metadata": {},
   "outputs": [],
   "source": [
    "w.conformance()"
   ]
  },
  {
   "cell_type": "markdown",
   "id": "b92f279f-3c1f-407f-9860-22d833cf6cce",
   "metadata": {},
   "source": [
    "OpenAPI document of the OGC API Records server:"
   ]
  },
  {
   "cell_type": "code",
   "execution_count": null,
   "id": "59acaa0f-8070-4415-9676-b63c60e76731",
   "metadata": {},
   "outputs": [],
   "source": [
    "w.api()"
   ]
  },
  {
   "cell_type": "markdown",
   "id": "764ae3ea-8b07-4b4e-a4c2-8842f13a645f",
   "metadata": {},
   "source": [
    "Collections available on the catalogue:"
   ]
  },
  {
   "cell_type": "code",
   "execution_count": null,
   "id": "550a52de-2b02-4d47-b0de-0cf8f73c12b2",
   "metadata": {},
   "outputs": [],
   "source": [
    "w.collections()"
   ]
  },
  {
   "cell_type": "code",
   "execution_count": null,
   "id": "f48e1e0a-2322-4d3a-abb6-6911ed755213",
   "metadata": {},
   "outputs": [],
   "source": [
    "records = w.records()"
   ]
  },
  {
   "cell_type": "code",
   "execution_count": null,
   "id": "a854ad77-23f8-4e3a-9bf3-663e245a53c3",
   "metadata": {},
   "outputs": [],
   "source": [
    "len(records)"
   ]
  },
  {
   "cell_type": "markdown",
   "id": "2e15d32c-89aa-4453-8dcd-10faf09936eb",
   "metadata": {},
   "source": [
    "The user can then specify the collection to search within the catalogue:"
   ]
  },
  {
   "cell_type": "code",
   "execution_count": null,
   "id": "9fe1b3ef-3cf4-4e6a-9bb4-5c6c500098ed",
   "metadata": {},
   "outputs": [],
   "source": [
    "my_catalogue = w.collection('metadata:main')"
   ]
  },
  {
   "cell_type": "code",
   "execution_count": null,
   "id": "62b043a6-e2f5-4b4b-9bab-1512217760fc",
   "metadata": {},
   "outputs": [],
   "source": [
    "my_catalogue['id']"
   ]
  },
  {
   "cell_type": "markdown",
   "id": "36deb327-d2fb-490e-b585-634c514075a6",
   "metadata": {},
   "source": [
    "Collection level queryables:"
   ]
  },
  {
   "cell_type": "code",
   "execution_count": null,
   "id": "d367eff4-ad5b-4fc0-a2cd-db464277a320",
   "metadata": {},
   "outputs": [],
   "source": [
    "w.collection_queryables('metadata:main')"
   ]
  },
  {
   "cell_type": "markdown",
   "id": "bc6888f2-df55-4d20-b58a-5934ed7bb3e9",
   "metadata": {},
   "source": [
    "Query the catalogue for all records:"
   ]
  },
  {
   "cell_type": "code",
   "execution_count": null,
   "id": "610888de-980a-40ba-8958-719ccf6cb835",
   "metadata": {},
   "outputs": [],
   "source": [
    "my_catalogue_query = w.collection_items('metadata:main')"
   ]
  },
  {
   "cell_type": "code",
   "execution_count": null,
   "id": "6e9c9421-458e-4b75-ae82-e55ef609d68b",
   "metadata": {},
   "outputs": [],
   "source": [
    "my_catalogue_query['numberMatched']"
   ]
  },
  {
   "cell_type": "markdown",
   "id": "3fe916de-0436-43a6-9771-c66fbe4ca619",
   "metadata": {},
   "source": [
    "Metadata of first result:"
   ]
  },
  {
   "cell_type": "code",
   "execution_count": null,
   "id": "9564c479-6760-4377-a85c-358d55401f71",
   "metadata": {},
   "outputs": [],
   "source": [
    "my_catalogue_query['features'][0]"
   ]
  },
  {
   "cell_type": "code",
   "execution_count": null,
   "id": "65ed1bf4",
   "metadata": {},
   "outputs": [],
   "source": [
    "my_catalogue_query['features'][1]['properties'].keys()"
   ]
  },
  {
   "cell_type": "code",
   "execution_count": null,
   "id": "43df443c-072f-41ba-9f9f-9fbf40a95256",
   "metadata": {},
   "outputs": [],
   "source": [
    "my_catalogue_query['features'][1]['properties']['platform']"
   ]
  },
  {
   "cell_type": "markdown",
   "id": "37392923-bf30-47ee-8b4f-70a25e9b956c",
   "metadata": {},
   "source": [
    "Query the catalogue using filters:"
   ]
  },
  {
   "cell_type": "code",
   "execution_count": null,
   "id": "079e181c-6332-429b-99b7-11c302f09a3d",
   "metadata": {},
   "outputs": [],
   "source": [
    "my_catalogue_query2 = w.collection_items('metadata:main', bbox=['23.3','37.8','24.5','38.8'])"
   ]
  },
  {
   "cell_type": "code",
   "execution_count": null,
   "id": "fbc24506-4a77-4fb1-95fa-1a9b031d5b4a",
   "metadata": {},
   "outputs": [],
   "source": [
    "my_catalogue_query2['numberMatched']"
   ]
  },
  {
   "cell_type": "markdown",
   "id": "ee49eaaf-8e9a-4cb1-9622-d3c1c078d791",
   "metadata": {},
   "source": [
    "Full query result:"
   ]
  },
  {
   "cell_type": "code",
   "execution_count": null,
   "id": "4d5384be-3bfb-43da-a88e-f13f5ddeb264",
   "metadata": {},
   "outputs": [],
   "source": [
    "my_catalogue_query2"
   ]
  },
  {
   "cell_type": "markdown",
   "id": "20346504-8de2-4bc3-92fc-a321cfd45c98",
   "metadata": {},
   "source": [
    "Text CQL query:"
   ]
  },
  {
   "cell_type": "code",
   "execution_count": null,
   "id": "fd7eb4b8-46c0-4b85-ab03-b7bba6267983",
   "metadata": {},
   "outputs": [],
   "source": [
    "my_catalogue_cql_text_query = w.collection_items('metadata:main', filter=\"identifier LIKE 'S2B_%'\")"
   ]
  },
  {
   "cell_type": "code",
   "execution_count": null,
   "id": "5458640e-7b02-49ef-b7e7-028e376690ec",
   "metadata": {},
   "outputs": [],
   "source": [
    "my_catalogue_cql_text_query['numberMatched']"
   ]
  },
  {
   "cell_type": "code",
   "execution_count": null,
   "id": "2ed3b9ff-91d5-48be-a5d1-609827c658d4",
   "metadata": {},
   "outputs": [],
   "source": [
    "my_catalogue_cql_text_query['features'][0]['id']"
   ]
  },
  {
   "cell_type": "markdown",
   "id": "43b79c0e-0452-4812-aa27-b441fc7230a1",
   "metadata": {},
   "source": [
    "JSON CQL query:"
   ]
  },
  {
   "cell_type": "code",
   "execution_count": null,
   "id": "f0d43561-dabe-4fcc-9a52-e6ca1090ce82",
   "metadata": {},
   "outputs": [],
   "source": [
    "my_catalogue_cql_json_query = w.collection_items('metadata:main', limit=1, cql={'op': '=', 'args': [{ 'property': 'identifier' }, 'S2B_MSIL2A_20241120T091209_R050_T34SGH_20241120T115657']})"
   ]
  },
  {
   "cell_type": "code",
   "execution_count": null,
   "id": "90fd58c4-ab5b-4db4-9646-d29e667a400e",
   "metadata": {},
   "outputs": [],
   "source": [
    "my_catalogue_cql_json_query['features'][0]['id']"
   ]
  },
  {
   "cell_type": "markdown",
   "id": "d71eb629-31ca-436a-8557-548cca3b8e1a",
   "metadata": {
    "jp-MarkdownHeadingCollapsed": true
   },
   "source": [
    "### OGC API Records Transactions demo"
   ]
  },
  {
   "cell_type": "markdown",
   "id": "a0bcfd7f-513c-4b56-bb16-2665371ba02e",
   "metadata": {},
   "source": [
    "Examples of OGC API transactions using OGC API - Features - Part 4: Create, Replace, Update and Delete in the context of OGC API - Records metadata management."
   ]
  },
  {
   "cell_type": "markdown",
   "id": "d64d9858-cc16-4ed5-ad04-c6af05e5afda",
   "metadata": {},
   "source": [
    "In this part of the demo, the user will use the OWSLib client library to create/update/delete a record using the OGC API Transactions interface."
   ]
  },
  {
   "cell_type": "code",
   "execution_count": null,
   "id": "dcc81262-2e5a-410d-8c74-2296bd581ddf",
   "metadata": {},
   "outputs": [],
   "source": [
    "record_data = '../data/sample-record.json'\n",
    "# record_data = '../data/record.json'\n",
    "system_catalogue_endpoint = f'https://catalogue.{base_domain}'\n",
    "collection_id = 'metadata:main'"
   ]
  },
  {
   "cell_type": "code",
   "execution_count": null,
   "id": "508abd96-d238-4583-ac6a-1f02b7dc9118",
   "metadata": {},
   "outputs": [],
   "source": [
    "r = Records(system_catalogue_endpoint)"
   ]
  },
  {
   "cell_type": "code",
   "execution_count": null,
   "id": "3d49a965-19bb-48f1-994b-ffde01f7cf99",
   "metadata": {},
   "outputs": [],
   "source": [
    "cat = r.collection(collection_id)"
   ]
  },
  {
   "cell_type": "code",
   "execution_count": null,
   "id": "8332075f-913a-432d-ad60-4f6d0a0d1ba1",
   "metadata": {},
   "outputs": [],
   "source": [
    "with open(record_data) as fh:\n",
    "    data = json.load(fh)"
   ]
  },
  {
   "cell_type": "code",
   "execution_count": null,
   "id": "0e0f871a-9e8f-4c65-b3bd-476ca607cfe6",
   "metadata": {},
   "outputs": [],
   "source": [
    "identifier = data['id']"
   ]
  },
  {
   "cell_type": "code",
   "execution_count": null,
   "id": "59ae2cec-cea1-4019-930c-bc52f8f6fee7",
   "metadata": {},
   "outputs": [],
   "source": [
    "my_catalogue_query = r.collection_items(collection_id)\n",
    "my_catalogue_query['numberMatched']"
   ]
  },
  {
   "cell_type": "code",
   "execution_count": null,
   "id": "0e38d9e2-4359-4917-aa00-d3578da1065a",
   "metadata": {},
   "outputs": [],
   "source": [
    "r.collection_item_delete(collection_id, identifier)"
   ]
  },
  {
   "cell_type": "code",
   "execution_count": null,
   "id": "dbf970a6-e3e6-41a4-9008-4531b8b432b0",
   "metadata": {},
   "outputs": [],
   "source": [
    "my_catalogue_query = r.collection_items(collection_id)\n",
    "my_catalogue_query['numberMatched']"
   ]
  },
  {
   "cell_type": "markdown",
   "id": "f9d39112-86bb-453b-b010-ef46954d1059",
   "metadata": {},
   "source": [
    "Insert metadata."
   ]
  },
  {
   "cell_type": "code",
   "execution_count": null,
   "id": "4c0d9f4a-215c-4261-bd9b-d82938b07a2f",
   "metadata": {},
   "outputs": [],
   "source": [
    "r.collection_item_create(collection_id, data)\n",
    "\n",
    "# Similar approach using requests\n",
    "#url = f'{system_catalogue_endpoint}/collections/metadata:main/items'\n",
    "#headers = {'content-type': 'application/geo+json'}\n",
    "#payload = open(record_data)\n",
    "#req = requests.post(url, data=payload, headers=headers)"
   ]
  },
  {
   "cell_type": "code",
   "execution_count": null,
   "id": "2bd5d809-2691-41a6-bc43-dd33e2976782",
   "metadata": {},
   "outputs": [],
   "source": [
    "my_catalogue_query = r.collection_items(collection_id)\n",
    "my_catalogue_query['numberMatched']"
   ]
  },
  {
   "cell_type": "markdown",
   "id": "4adbe115-c326-4918-b417-0278d60016a6",
   "metadata": {},
   "source": [
    "Update metadata."
   ]
  },
  {
   "cell_type": "code",
   "execution_count": null,
   "id": "bcb41adc-5c47-49cc-b991-d00149f65d55",
   "metadata": {},
   "outputs": [],
   "source": [
    "data['properties']['description'] = \"Update description\""
   ]
  },
  {
   "cell_type": "code",
   "execution_count": null,
   "id": "68b88a3d-1268-4da0-b189-2b7cd451fa8f",
   "metadata": {},
   "outputs": [],
   "source": [
    "r.collection_item_update(collection_id, identifier, data)"
   ]
  },
  {
   "cell_type": "markdown",
   "id": "111560db-41be-417b-98c8-d58322c0093d",
   "metadata": {},
   "source": [
    "Delete metadata."
   ]
  },
  {
   "cell_type": "code",
   "execution_count": null,
   "id": "e7771e89-2534-4279-a2ff-1caaa1a19142",
   "metadata": {},
   "outputs": [],
   "source": [
    "r.collection_item_delete(collection_id, identifier)"
   ]
  },
  {
   "cell_type": "code",
   "execution_count": null,
   "id": "4e594566-7116-4f5e-b3c2-810d91504102",
   "metadata": {},
   "outputs": [],
   "source": [
    "my_catalogue_query = r.collection_items(collection_id)\n",
    "my_catalogue_query['numberMatched']"
   ]
  },
  {
   "cell_type": "markdown",
   "id": "300f1897-0c2c-4779-8a6e-78e13962c81b",
   "metadata": {},
   "source": [
    "Next, the user will ingest a STAC Item through the OGC API transactions."
   ]
  },
  {
   "cell_type": "code",
   "execution_count": null,
   "id": "76e9067d-0214-44fb-a72f-9f6c92117938",
   "metadata": {},
   "outputs": [],
   "source": [
    "stac_data = '../data/S2B_MSIL2A_20241120T091209_R050_T34SGH_20241120T115657.json'\n",
    "with open(stac_data) as sf:\n",
    "    si = json.load(sf)"
   ]
  },
  {
   "cell_type": "code",
   "execution_count": null,
   "id": "05a70882-6b26-4cc9-8c59-962b1d512e58",
   "metadata": {},
   "outputs": [],
   "source": [
    "identifier = si['id']"
   ]
  },
  {
   "cell_type": "code",
   "execution_count": null,
   "id": "edc26e7d-1743-4d6a-9155-b4bdf000b2ef",
   "metadata": {},
   "outputs": [],
   "source": [
    "my_catalogue_query = r.collection_items(collection_id)\n",
    "my_catalogue_query['numberMatched']"
   ]
  },
  {
   "cell_type": "markdown",
   "id": "e45664ee-6e1c-4012-a10a-5188dbe6b789",
   "metadata": {},
   "source": [
    "Delete metadata in case the identifier already exists."
   ]
  },
  {
   "cell_type": "code",
   "execution_count": null,
   "id": "dab60b51-efe4-40bc-ba8c-fd8b8de47469",
   "metadata": {},
   "outputs": [],
   "source": [
    "r.collection_item_delete(collection_id, identifier)"
   ]
  },
  {
   "cell_type": "code",
   "execution_count": null,
   "id": "5d9e798d-5116-4c55-9f2a-ecc8a30ee10d",
   "metadata": {},
   "outputs": [],
   "source": [
    "my_catalogue_query = r.collection_items(collection_id)\n",
    "my_catalogue_query['numberMatched']"
   ]
  },
  {
   "cell_type": "markdown",
   "id": "d51f40d2-8165-491f-87cf-fdbec02cfd2b",
   "metadata": {},
   "source": [
    "Insert metadata."
   ]
  },
  {
   "cell_type": "code",
   "execution_count": null,
   "id": "daacd0d5-2a2e-4c8d-be7d-e75076c76b44",
   "metadata": {},
   "outputs": [],
   "source": [
    "r.collection_item_create(collection_id, si)"
   ]
  },
  {
   "cell_type": "code",
   "execution_count": null,
   "id": "e5be3d9e-7bd1-4c8d-bbf8-f45454a6b5f0",
   "metadata": {},
   "outputs": [],
   "source": [
    "my_catalogue_query = r.collection_items(collection_id)\n",
    "my_catalogue_query['numberMatched']"
   ]
  },
  {
   "cell_type": "markdown",
   "id": "39b444fc-db2b-47d1-b1ec-4d3afc037ee2",
   "metadata": {
    "jp-MarkdownHeadingCollapsed": true
   },
   "source": [
    "### STAC API demo"
   ]
  },
  {
   "cell_type": "markdown",
   "id": "a84eb2de-869b-4a30-a67e-88d7cfdd5ab2",
   "metadata": {},
   "source": [
    "In this part of the demo, the user will use the system level resource catalogue STAC API endpoint to discover data datasets.\n",
    "The `pystac_client` library is used as a STAC client."
   ]
  },
  {
   "cell_type": "code",
   "execution_count": null,
   "id": "2d2a3107-e895-4881-a6b6-8c50d086e1fe",
   "metadata": {},
   "outputs": [],
   "source": [
    "from pystac_client import Client\n",
    "from pystac_client import ConformanceClasses"
   ]
  },
  {
   "cell_type": "code",
   "execution_count": null,
   "id": "10dde737-eff2-4894-b784-47452031f4b5",
   "metadata": {},
   "outputs": [],
   "source": [
    "system_catalogue_endpoint = f'https://catalogue.{base_domain}/stac'"
   ]
  },
  {
   "cell_type": "code",
   "execution_count": null,
   "id": "bbad6f94-c992-4c5a-b4d9-bbe2b304b79f",
   "metadata": {},
   "outputs": [],
   "source": [
    "catalog = Client.open(system_catalogue_endpoint)"
   ]
  },
  {
   "cell_type": "markdown",
   "id": "12ba3b68-8d2b-4963-8e51-d1b281ecb06f",
   "metadata": {},
   "source": [
    "STAC catalogue metadata:"
   ]
  },
  {
   "cell_type": "code",
   "execution_count": null,
   "id": "5b2f23f2-99e7-4a39-bd99-7eb48c08c31c",
   "metadata": {},
   "outputs": [],
   "source": [
    "catalog.id"
   ]
  },
  {
   "cell_type": "code",
   "execution_count": null,
   "id": "496f811e-a3f4-4b26-8c72-8ae345f4999e",
   "metadata": {},
   "outputs": [],
   "source": [
    "catalog.title"
   ]
  },
  {
   "cell_type": "code",
   "execution_count": null,
   "id": "99eda27f-8f95-484b-adf5-64f6e40d5043",
   "metadata": {},
   "outputs": [],
   "source": [
    "catalog.description"
   ]
  },
  {
   "cell_type": "markdown",
   "id": "e8e330f9-17bc-4798-944f-a23b9ef64a47",
   "metadata": {},
   "source": [
    "Conformance classes supported by the STAC API endpoint:"
   ]
  },
  {
   "cell_type": "code",
   "execution_count": null,
   "id": "8f887e5a-796d-4593-bedb-d805febe318f",
   "metadata": {},
   "outputs": [],
   "source": [
    "dir(ConformanceClasses)"
   ]
  },
  {
   "cell_type": "markdown",
   "id": "c4bcd6a1-5886-4b4d-abc1-ad820090228d",
   "metadata": {},
   "source": [
    "Validation of STAC API using `pystac_client`:"
   ]
  },
  {
   "cell_type": "code",
   "execution_count": null,
   "id": "151690bc-396a-4c0a-86df-3f1ae888b6d1",
   "metadata": {},
   "outputs": [],
   "source": [
    "catalog._stac_io.assert_conforms_to(ConformanceClasses.ITEM_SEARCH)"
   ]
  },
  {
   "cell_type": "code",
   "execution_count": null,
   "id": "e46ac39f-8aa6-4392-a97c-02ce7e0fd767",
   "metadata": {},
   "outputs": [],
   "source": [
    "catalog._stac_io.assert_conforms_to(ConformanceClasses.CORE)"
   ]
  },
  {
   "cell_type": "markdown",
   "id": "6b99c79c-e60c-4203-8721-d15d16523327",
   "metadata": {},
   "source": [
    "Query the catalogue for all STAC items:"
   ]
  },
  {
   "cell_type": "code",
   "execution_count": null,
   "id": "c198d93e-4905-4e9a-932e-9c9fb8616954",
   "metadata": {},
   "outputs": [],
   "source": [
    "mysearch = catalog.search(collections=['sentinel-2-l2a'], max_items=10)\n",
    "print(f\"{mysearch.matched()} items found\")"
   ]
  },
  {
   "cell_type": "markdown",
   "id": "8e2b1bd5-8a4d-49e0-8317-5508e96a96f7",
   "metadata": {},
   "source": [
    "Query the STAC API using filters:"
   ]
  },
  {
   "cell_type": "code",
   "execution_count": null,
   "id": "7f234536-7328-4373-ae8a-8302cb86b2e4",
   "metadata": {},
   "outputs": [],
   "source": [
    "# mysearch = catalog.search(collections=['sentinel-2-l2a'], bbox=[23.3,37.8,24.5,38.8], max_items=10)\n",
    "# print(f\"{mysearch.matched()} items found\")"
   ]
  },
  {
   "cell_type": "markdown",
   "id": "691602b7-6736-4b61-a89e-1b8ff71dbd35",
   "metadata": {},
   "source": [
    "Iterate through the query results:"
   ]
  },
  {
   "cell_type": "code",
   "execution_count": null,
   "id": "3e3d5306-fabc-4f15-ab69-cbcbafc43871",
   "metadata": {},
   "outputs": [],
   "source": [
    "items = mysearch.get_items()\n",
    "for item in items:\n",
    "    print(item.id)"
   ]
  },
  {
   "cell_type": "markdown",
   "id": "acaefe17-80d5-488f-bd8f-f2673161b9a0",
   "metadata": {},
   "source": [
    "Show first STAC item JSON:"
   ]
  },
  {
   "cell_type": "code",
   "execution_count": null,
   "id": "088e7dfb-ac40-49bc-940f-5aa2416bd227",
   "metadata": {},
   "outputs": [],
   "source": [
    "# print(json.dumps(item.to_dict(), indent=2))"
   ]
  },
  {
   "cell_type": "code",
   "execution_count": null,
   "id": "503ec84e-a941-44e0-bfc7-87a9a6bda8c2",
   "metadata": {},
   "outputs": [],
   "source": [
    "first_item = next(mysearch.get_items())\n",
    "first_item"
   ]
  }
 ],
 "metadata": {
  "kernelspec": {
   "display_name": "Python 3 (ipykernel)",
   "language": "python",
   "name": "python3"
  },
  "language_info": {
   "codemirror_mode": {
    "name": "ipython",
    "version": 3
   },
   "file_extension": ".py",
   "mimetype": "text/x-python",
   "name": "python",
   "nbconvert_exporter": "python",
   "pygments_lexer": "ipython3",
   "version": "3.11.10"
  }
 },
 "nbformat": 4,
 "nbformat_minor": 5
}
